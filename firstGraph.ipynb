{
 "cells": [
  {
   "cell_type": "code",
   "execution_count": null,
   "id": "62beec85",
   "metadata": {},
   "outputs": [],
   "source": [
    "State:\n",
    "first state i use typdict from python's typing module, which provide type hint for key"
   ]
  },
  {
   "cell_type": "code",
   "execution_count": null,
   "id": "3bea3bd9",
   "metadata": {},
   "outputs": [],
   "source": [
    "from typing_extensions import TypedDict\n",
    "class State(TypedDict):\n",
    "   graph_state:str\n",
    "   "
   ]
  },
  {
   "cell_type": "code",
   "execution_count": 6,
   "id": "43000ed8",
   "metadata": {},
   "outputs": [],
   "source": [
    "def first_node(State):\n",
    "    print(\"my First Node is called\")\n",
    "    return{\"graph_state\":state['graph_state']+\"i am playing\"}\n",
    "\n",
    "\n",
    "def second_node(State):\n",
    "    print(\"my second node is cadded\")\n",
    "    return{\"graph_state\":state['graph_state']+\"cooking\"}\n",
    "\n",
    "\n",
    "def third_node(State):\n",
    "    print(\" my third node\")\n",
    "    return{\"graph_state\":state['graph_state']+\"yoga\"}\n",
    "\n",
    "\n"
   ]
  },
  {
   "cell_type": "code",
   "execution_count": 13,
   "id": "0ecf7170",
   "metadata": {},
   "outputs": [],
   "source": [
    "import random\n",
    "from typing import Literal\n",
    "\n",
    "def deside_work(State)-> Literal['second_node','third-node']:\n",
    "    graph_state = state['graph_state']\n",
    "\n",
    "\n",
    "    if random.random()>0.5:\n",
    "         return \"second_node\"\n",
    "    \n",
    "    return \"third_node\"     \n"
   ]
  },
  {
   "cell_type": "code",
   "execution_count": null,
   "id": "4629028d",
   "metadata": {},
   "outputs": [],
   "source": [
    "from IPython_display import Image,display\n",
    "from langGraph.Graph import State,Start,End\n",
    " \n",
    "builder=StateGraph(State)\n",
    "\n",
    "builder.add_node(\"first_node\",first_node)\n",
    "builder.add_node(\"second_node\",second_node)\n",
    "builder.add_node(\"third_node\",third_node)\n",
    "\n"
   ]
  }
 ],
 "metadata": {
  "kernelspec": {
   "display_name": "venv",
   "language": "python",
   "name": "python3"
  },
  "language_info": {
   "codemirror_mode": {
    "name": "ipython",
    "version": 3
   },
   "file_extension": ".py",
   "mimetype": "text/x-python",
   "name": "python",
   "nbconvert_exporter": "python",
   "pygments_lexer": "ipython3",
   "version": "3.11.4"
  }
 },
 "nbformat": 4,
 "nbformat_minor": 5
}
